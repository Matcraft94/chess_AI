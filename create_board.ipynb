{
 "cells": [
  {
   "cell_type": "code",
   "execution_count": 4,
   "metadata": {},
   "outputs": [],
   "source": [
    "import chess\n",
    "import matplotlib.pyplot as plt\n",
    "import numpy as np"
   ]
  },
  {
   "cell_type": "code",
   "execution_count": 8,
   "metadata": {},
   "outputs": [
    {
     "data": {
      "image/png": "[encoded data removed]",
      "text/plain": [
       "<Figure size 400x400 with 1 Axes>"
      ]
     },
     "metadata": {},
     "output_type": "display_data"
    }
   ],
   "source": [
    "# Crear un arreglo 8x8 para representar el tablero de ajedrez\n",
    "board = np.zeros([8,8])\n",
    "\n",
    "# Colorear los cuadrados de blanco y negro\n",
    "board[1::2,::2] = 1\n",
    "board[::2,1::2] = 1\n",
    "\n",
    "# Crear una nueva figura\n",
    "fig, ax = plt.subplots(figsize=(4, 4))\n",
    "\n",
    "# Graficar el tablero de ajedrez usando una paleta de colores en blanco y negro\n",
    "ax.imshow(board, cmap='binary')\n",
    "\n",
    "# Desactivar los ejes\n",
    "ax.axis('off')\n",
    "\n",
    "# Guardar la figura como un archivo PNG\n",
    "fig.savefig('IMAGES/board.png', dpi=300, bbox_inches='tight', pad_inches=0)"
   ]
  }
 ],
 "metadata": {
  "kernelspec": {
   "display_name": "chess",
   "language": "python",
   "name": "python3"
  },
  "language_info": {
   "codemirror_mode": {
    "name": "ipython",
    "version": 3
   },
   "file_extension": ".py",
   "mimetype": "text/x-python",
   "name": "python",
   "nbconvert_exporter": "python",
   "pygments_lexer": "ipython3",
   "version": "3.10.10"
  },
  "orig_nbformat": 4
 },
 "nbformat": 4,
 "nbformat_minor": 2
}
