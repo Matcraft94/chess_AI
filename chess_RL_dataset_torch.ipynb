{
 "cells": [
  {
   "attachments": {},
   "cell_type": "markdown",
   "metadata": {},
   "source": [
    "# CHess RL Torch"
   ]
  },
  {
   "cell_type": "code",
   "execution_count": 1,
   "metadata": {},
   "outputs": [],
   "source": [
    "import os"
   ]
  },
  {
   "cell_type": "code",
   "execution_count": 2,
   "metadata": {},
   "outputs": [],
   "source": [
    "import math\n",
    "import random\n",
    "import time"
   ]
  },
  {
   "cell_type": "code",
   "execution_count": 3,
   "metadata": {},
   "outputs": [],
   "source": [
    "from tqdm import tqdm"
   ]
  },
  {
   "cell_type": "code",
   "execution_count": 4,
   "metadata": {},
   "outputs": [],
   "source": [
    "import chess\n",
    "import numpy as np"
   ]
  },
  {
   "cell_type": "code",
   "execution_count": 5,
   "metadata": {},
   "outputs": [],
   "source": [
    "from collections import defaultdict"
   ]
  },
  {
   "cell_type": "code",
   "execution_count": 6,
   "metadata": {},
   "outputs": [],
   "source": [
    "import matplotlib.pyplot as plt"
   ]
  },
  {
   "cell_type": "code",
   "execution_count": 7,
   "metadata": {},
   "outputs": [],
   "source": [
    "import torch\n",
    "import torch.nn as nn\n",
    "import torch.optim as optim\n",
    "import torch.nn.functional as F\n",
    "from torch.utils.data import Dataset, DataLoader\n",
    "from torch.utils.data import TensorDataset"
   ]
  },
  {
   "cell_type": "code",
   "execution_count": 8,
   "metadata": {},
   "outputs": [
    {
     "name": "stdout",
     "output_type": "stream",
     "text": [
      "Se está utilizando el dispositivo cuda\n"
     ]
    }
   ],
   "source": [
    "device = 'cuda' if torch.cuda.is_available() else 'cpu'\n",
    "print('Se está utilizando el dispositivo',device)"
   ]
  },
  {
   "attachments": {},
   "cell_type": "markdown",
   "metadata": {},
   "source": [
    "Definimos el ambiente del juego y las respectivas reglas:"
   ]
  },
  {
   "cell_type": "code",
   "execution_count": 9,
   "metadata": {},
   "outputs": [],
   "source": [
    "def board_to_tensor(board):\n",
    "    piece_map = board.piece_map()\n",
    "    board_tensor = np.zeros((12, 8, 8), dtype=np.float32)\n",
    "\n",
    "    for pos, piece in piece_map.items():\n",
    "        rank, file = chess.square_rank(pos), chess.square_file(pos)\n",
    "        piece_idx = piece.piece_type - 1 + (6 if piece.color == chess.BLACK else 0)\n",
    "        board_tensor[piece_idx, rank, file] = 1\n",
    "\n",
    "    return board_tensor\n"
   ]
  },
  {
   "cell_type": "code",
   "execution_count": 10,
   "metadata": {},
   "outputs": [],
   "source": [
    "class ChessEnvironment:\n",
    "    def __init__(self):\n",
    "        self.board = chess.Board()\n",
    "        \n",
    "    def reset(self):\n",
    "        self.board.reset()\n",
    "        return self.board_to_array(self.board)\n",
    "    \n",
    "    def board_to_array(self, board):\n",
    "        # Convierte el tablero en una matriz 8x8x12 que representa las piezas y sus posiciones.\n",
    "        piece_symbols = \"PRNBQKprnbqk\"\n",
    "        piece_indices = {symbol: i for i, symbol in enumerate(piece_symbols)}\n",
    "        board_matrix = np.zeros((12, 8, 8))\n",
    "\n",
    "        for i in range(64):\n",
    "            piece = board.piece_at(i)\n",
    "            if piece:\n",
    "                piece_index = piece_indices[piece.symbol()]\n",
    "                row, col = divmod(i, 8)\n",
    "                board_matrix[piece_index, row, col] = 1\n",
    "\n",
    "        return board_matrix\n",
    "\n",
    "    def step(self, move):\n",
    "        # Aplicar el movimiento al tablero y devolver el nuevo estado, recompensa y si el juego ha terminado.\n",
    "        game_over = False\n",
    "        reward = 0\n",
    "\n",
    "        if move in self.legal_moves():\n",
    "            self.board.push(move)\n",
    "            game_over = self.board.is_game_over()\n",
    "            if game_over:\n",
    "                reward = self.get_reward()\n",
    "        else:\n",
    "            raise ValueError(\"Illegal move\")\n",
    "\n",
    "        next_state = self.board_to_array(self.board)\n",
    "        return next_state, reward, game_over\n",
    "\n",
    "    def legal_moves(self):\n",
    "        return list(self.board.legal_moves)\n",
    "\n",
    "    # def is_game_over(self):\n",
    "    #     return self.board.is_game_over()\n",
    "    def is_game_over(self):  # Modifica la función para que no requiera argumentos adicionales\n",
    "        return self.board.is_game_over()\n",
    "\n",
    "    def get_reward(self):\n",
    "        result = self.board.result()\n",
    "        if result == \"1-0\":  # White wins\n",
    "            return 1\n",
    "        elif result == \"0-1\":  # Black wins\n",
    "            return -1\n",
    "        else:  # Draw\n",
    "            return 0\n",
    "    \n",
    "    def get_state(self):\n",
    "        return board_to_tensor(self.board)"
   ]
  },
  {
   "attachments": {},
   "cell_type": "markdown",
   "metadata": {},
   "source": [
    "Creamos la red neuronal:"
   ]
  },
  {
   "cell_type": "code",
   "execution_count": 11,
   "metadata": {},
   "outputs": [],
   "source": [
    "class ResidualBlock(nn.Module):\n",
    "    def __init__(self, num_channels):\n",
    "        super(ResidualBlock, self).__init__()\n",
    "        self.conv1 = nn.Conv2d(num_channels, num_channels, kernel_size=3, stride=1, padding=1)\n",
    "        self.bn1 = nn.BatchNorm2d(num_channels)\n",
    "        self.conv2 = nn.Conv2d(num_channels, num_channels, kernel_size=3, stride=1, padding=1)\n",
    "        self.bn2 = nn.BatchNorm2d(num_channels)\n",
    "\n",
    "    def forward(self, x):\n",
    "        residual = x\n",
    "        x = F.relu(self.bn1(self.conv1(x)))\n",
    "        x = self.bn2(self.conv2(x))\n",
    "        x += residual\n",
    "        x = F.relu(x)\n",
    "        return x\n",
    "\n",
    "class ChessNetwork(nn.Module):\n",
    "    def __init__(self, num_residual_blocks=3, num_channels=256):\n",
    "        super(ChessNetwork, self).__init__()\n",
    "\n",
    "        self.conv_input = nn.Conv2d(12, num_channels, kernel_size=3, stride=1, padding=1)\n",
    "        self.bn_input = nn.BatchNorm2d(num_channels)\n",
    "\n",
    "        self.residual_blocks = nn.Sequential(*[ResidualBlock(num_channels) for _ in range(num_residual_blocks)])\n",
    "\n",
    "        self.conv_policy = nn.Conv2d(num_channels, 2, kernel_size=1)\n",
    "        self.bn_policy = nn.BatchNorm2d(2)\n",
    "        self.fc_policy = nn.Linear(2 * 8 * 8, 4096)  # 4096 es el número máximo de movimientos legales en ajedrez\n",
    "\n",
    "        self.conv_value = nn.Conv2d(num_channels, 1, kernel_size=1)\n",
    "        self.bn_value = nn.BatchNorm2d(1)\n",
    "        self.fc_value1 = nn.Linear(8 * 8, 256)\n",
    "        self.fc_value2 = nn.Linear(256, 1)\n",
    "\n",
    "    def forward(self, x):\n",
    "        x = F.relu(self.bn_input(self.conv_input(x)))\n",
    "        x = self.residual_blocks(x)\n",
    "\n",
    "        policy = F.relu(self.bn_policy(self.conv_policy(x)))\n",
    "        policy = policy.view(-1, 2 * 8 * 8)\n",
    "        policy = F.softmax(self.fc_policy(policy), dim=-1)\n",
    "\n",
    "        value = F.relu(self.bn_value(self.conv_value(x)))\n",
    "        value = value.view(-1, 8 * 8)\n",
    "        value = F.relu(self.fc_value1(value))\n",
    "        value = torch.tanh(self.fc_value2(value))\n",
    "\n",
    "        return policy, value"
   ]
  },
  {
   "cell_type": "code",
   "execution_count": 12,
   "metadata": {},
   "outputs": [],
   "source": [
    "class ChessNetworkreduced(nn.Module):\n",
    "    def __init__(self, num_residual_blocks=1, num_channels=64):\n",
    "        super(ChessNetworkreduced, self).__init__()\n",
    "\n",
    "        self.conv_input = nn.Conv2d(12, num_channels, kernel_size=3, stride=1, padding=1)\n",
    "        self.bn_input = nn.BatchNorm2d(num_channels)\n",
    "\n",
    "        self.residual_blocks = nn.Sequential(*[ResidualBlock(num_channels) for _ in range(num_residual_blocks)])\n",
    "\n",
    "        self.conv_policy = nn.Conv2d(num_channels, 2, kernel_size=1)\n",
    "        self.bn_policy = nn.BatchNorm2d(2)\n",
    "        self.fc_policy = nn.Linear(2 * 8 * 8, 4096)  # 4096 es el número máximo de movimientos legales en ajedrez\n",
    "\n",
    "        self.conv_value = nn.Conv2d(num_channels, 1, kernel_size=1)\n",
    "        self.bn_value = nn.BatchNorm2d(1)\n",
    "        self.fc_value1 = nn.Linear(8 * 8, 256)\n",
    "        self.fc_value2 = nn.Linear(256, 1)\n",
    "\n",
    "    def forward(self, x):\n",
    "        x = F.relu(self.bn_input(self.conv_input(x)))\n",
    "        x = self.residual_blocks(x)\n",
    "\n",
    "        policy = F.relu(self.bn_policy(self.conv_policy(x)))\n",
    "        policy = policy.view(-1, 2 * 8 * 8)\n",
    "        policy = F.softmax(self.fc_policy(policy), dim=-1)\n",
    "\n",
    "        value = F.relu(self.bn_value(self.conv_value(x)))\n",
    "        value = value.view(-1, 8 * 8)\n",
    "        value = F.relu(self.fc_value1(value))\n",
    "        value = torch.tanh(self.fc_value2(value))\n",
    "\n",
    "        return policy, value\n"
   ]
  },
  {
   "attachments": {},
   "cell_type": "markdown",
   "metadata": {},
   "source": [
    "Entrenamiento del modelo"
   ]
  },
  {
   "cell_type": "code",
   "execution_count": 13,
   "metadata": {},
   "outputs": [],
   "source": [
    "class MCTSNode:\n",
    "    def __init__(self, parent, prior, action):\n",
    "        self.parent = parent\n",
    "        self.action = action\n",
    "        self.visit_count = 0\n",
    "        self.value_sum = 0\n",
    "        self.children = {}\n",
    "        self.prior = prior\n",
    "\n",
    "    def expand(self, env, action_probs):\n",
    "        for move, prob in action_probs.items():\n",
    "            if move not in self.children:\n",
    "                self.children[move] = MCTSNode(self, prob, move)\n",
    "\n",
    "    def is_expanded(self):\n",
    "        return len(self.children) > 0\n",
    "\n",
    "    def select_child(self):\n",
    "        C = 1.0  # Parámetro de exploración\n",
    "        best_score = None\n",
    "        best_action = None\n",
    "        best_child = None\n",
    "\n",
    "        for action, child in self.children.items():\n",
    "            score = child.get_ucb_score(C)\n",
    "            if best_score is None or score > best_score:\n",
    "                best_score = score\n",
    "                best_action = action\n",
    "                best_child = child\n",
    "\n",
    "        return best_action, best_child\n",
    "\n",
    "    def get_ucb_score(self, C):\n",
    "        Q = self.value()  # Valor medio\n",
    "        U = C * self.prior * math.sqrt(self.parent.visit_count) / (1 + self.visit_count)  # Potencial de mejora\n",
    "        return Q + U\n",
    "\n",
    "    def value(self):\n",
    "        if self.visit_count == 0:\n",
    "            return 0\n",
    "        return self.value_sum / self.visit_count\n",
    "\n",
    "    def backpropagate(self, value):\n",
    "        if self.parent is not None:\n",
    "            self.parent.backpropagate(value)\n",
    "        self.visit_count += 1\n",
    "        self.value_sum += value\n"
   ]
  },
  {
   "cell_type": "code",
   "execution_count": 14,
   "metadata": {},
   "outputs": [],
   "source": [
    "def move_to_index(move):\n",
    "    from_square = move.from_square\n",
    "    to_square = move.to_square\n",
    "    return from_square * 64 + to_square\n",
    "\n",
    "def index_to_move(index):\n",
    "    from_square = index // 64\n",
    "    to_square = index % 64\n",
    "    return chess.Move(from_square, to_square)"
   ]
  },
  {
   "cell_type": "code",
   "execution_count": 15,
   "metadata": {},
   "outputs": [],
   "source": [
    "def run_mcts(model, env, num_simulations, temperature):\n",
    "    root = MCTSNode(None, 1.0, None)\n",
    "\n",
    "    for _ in range(num_simulations):\n",
    "        node = root\n",
    "        board_copy = env.board.copy()\n",
    "\n",
    "        # Selección y expansión\n",
    "        while node.is_expanded():\n",
    "            action, node = node.select_child()\n",
    "            board_copy.push(action)\n",
    "\n",
    "        # Simulación\n",
    "        if not env.is_game_over():\n",
    "            legal_moves = list(board_copy.legal_moves)\n",
    "            state = env.board_to_array(board_copy)\n",
    "            state_tensor = torch.tensor(state, dtype=torch.float32).unsqueeze(0).to(device)\n",
    "            policy, value = model(state_tensor)\n",
    "            policy = policy.cpu().detach().numpy().flatten()\n",
    "\n",
    "            if len(legal_moves) > 0:  # Verifica si hay al menos un movimiento legal\n",
    "                action_probs = {move: policy[move_to_index(move)] for move in legal_moves}\n",
    "                node.expand(env, action_probs)\n",
    "            else:\n",
    "                action_probs = {}  # Inicializa un diccionario vacío si no hay movimientos legales\n",
    "\n",
    "            value = value.item()\n",
    "        else:\n",
    "            value = env.get_reward(board_copy)\n",
    "\n",
    "        # Retroceso\n",
    "        node.backpropagate(value)\n",
    "\n",
    "    # Calcula la política final a partir del número de visitas de las acciones.\n",
    "    legal_moves = list(env.board.legal_moves)  # Añade esta línea para obtener una lista de movimientos legales\n",
    "    visit_counts = np.array([root.children.get(action, 0).visit_count for action in legal_moves])  # Itera sobre los movimientos legales en lugar de usar num_legal_moves\n",
    "\n",
    "    if temperature == 0:\n",
    "        action_idx = np.argmax(visit_counts)\n",
    "        policy = np.zeros_like(visit_counts)\n",
    "        policy[action_idx] = 1\n",
    "    else:\n",
    "        visit_counts = visit_counts ** (1 / temperature)\n",
    "        policy = visit_counts / visit_counts.sum()\n",
    "\n",
    "    return policy"
   ]
  },
  {
   "cell_type": "code",
   "execution_count": 16,
   "metadata": {},
   "outputs": [],
   "source": [
    "import chess.pgn\n",
    "\n",
    "def load_games_from_pgn(pgn_file, max_games=None):\n",
    "    games = []\n",
    "    with open(pgn_file, \"r\") as pgn:\n",
    "        for _ in tqdm(range(max_games) if max_games else tqdm(pgn)):\n",
    "            game = chess.pgn.read_game(pgn)\n",
    "            if game is None:\n",
    "                break\n",
    "            games.append(game)\n",
    "            if max_games and len(games) >= max_games:\n",
    "                break\n",
    "    return games"
   ]
  },
  {
   "cell_type": "code",
   "execution_count": 17,
   "metadata": {},
   "outputs": [],
   "source": [
    "def play_game(model, env, game, num_mcts_simulations, temperature, return_result=False):\n",
    "    states = []\n",
    "    policy_targets = []\n",
    "    value_targets = []\n",
    "\n",
    "    for move in game.mainline_moves():\n",
    "        if not env.board.is_game_over():\n",
    "            policy = run_mcts(model, env, num_mcts_simulations, temperature)\n",
    "\n",
    "            legal_moves = list(env.legal_moves())  \n",
    "            if len(legal_moves) > 0:  \n",
    "                env.board.push(move)\n",
    "                states.append(env.get_state().copy())\n",
    "\n",
    "                padded_policy = np.zeros(4096)\n",
    "                padded_policy[:len(policy)] = policy\n",
    "                policy_targets.append(padded_policy)\n",
    "\n",
    "    result = env.board.result()\n",
    "\n",
    "    if result == \"1-0\":\n",
    "        value_targets = [1] * len(states)\n",
    "    elif result == \"0-1\":\n",
    "        value_targets = [-1] * len(states)\n",
    "    else:\n",
    "        value_targets = [0] * len(states)\n",
    "\n",
    "    if return_result:\n",
    "        return result\n",
    "    else:\n",
    "        return states, policy_targets, value_targets"
   ]
  },
  {
   "cell_type": "code",
   "execution_count": 18,
   "metadata": {},
   "outputs": [],
   "source": [
    "def play_games(model, games, num_mcts_simulations=8, temperature=1.0):\n",
    "    states, policy_targets, value_targets = [], [], []\n",
    "\n",
    "    for game in games:\n",
    "        env = ChessEnvironment()\n",
    "        game_states, game_policies, game_values = play_game(model, env, game, num_mcts_simulations, temperature)\n",
    "        states.extend(game_states)\n",
    "        policy_targets.extend(game_policies)\n",
    "        value_targets.extend(game_values)\n",
    "\n",
    "    return states, policy_targets, value_targets\n"
   ]
  },
  {
   "cell_type": "code",
   "execution_count": 19,
   "metadata": {},
   "outputs": [],
   "source": [
    "def compute_loss(model, states, policy_targets, value_targets, device):\n",
    "    states = torch.tensor(np.array(states), dtype=torch.float32).to(device)\n",
    "    policy_targets = torch.tensor(np.array(policy_targets), dtype=torch.float32).to(device)\n",
    "    value_targets = torch.tensor(np.array(value_targets), dtype=torch.float32).to(device)\n",
    "\n",
    "    policies, values = model(states)\n",
    "\n",
    "    # Utilizar nll_loss en lugar de binary_cross_entropy\n",
    "    policy_loss = F.nll_loss(torch.log(policies), torch.argmax(policy_targets, dim=1))\n",
    "    value_loss = F.mse_loss(values.view(-1), value_targets)\n",
    "\n",
    "    total_loss = policy_loss + value_loss\n",
    "\n",
    "    return total_loss\n"
   ]
  },
  {
   "cell_type": "code",
   "execution_count": 20,
   "metadata": {},
   "outputs": [],
   "source": [
    "def evaluate_game(model, env, num_mcts_simulations):\n",
    "    while not env.is_game_over():\n",
    "        state = env.board_to_array(env.board)\n",
    "        policy, _ = run_mcts(model, env, num_mcts_simulations, temperature=0)\n",
    "\n",
    "        action = np.argmax(policy)\n",
    "        legal_moves = list(env.legal_moves())\n",
    "        move = legal_moves[action]\n",
    "\n",
    "        env.step(move)\n",
    "\n",
    "    return env.get_reward()"
   ]
  },
  {
   "cell_type": "code",
   "execution_count": 21,
   "metadata": {},
   "outputs": [],
   "source": [
    "# def evaluate_and_save_model(model, save_dir=\"saved_models\", num_evaluation_games=100, num_mcts_simulations=800):\n",
    "def evaluate_and_save_model(model, save_dir=\"saved_models\", num_evaluation_games=10, num_mcts_simulations=8):\n",
    "    win_count = 0\n",
    "    draw_count = 0\n",
    "    loss_count = 0\n",
    "\n",
    "    for _ in range(num_evaluation_games):\n",
    "        env = ChessEnvironment()\n",
    "        game_result = evaluate_game(model, env, num_mcts_simulations)\n",
    "\n",
    "        if game_result == 1:\n",
    "            win_count += 1\n",
    "        elif game_result == 0:\n",
    "            draw_count += 1\n",
    "        else:\n",
    "            loss_count += 1\n",
    "\n",
    "    win_rate = win_count / num_evaluation_games\n",
    "    draw_rate = draw_count / num_evaluation_games\n",
    "    loss_rate = loss_count / num_evaluation_games\n",
    "\n",
    "    print(f\"Evaluation results: {num_evaluation_games} games played\")\n",
    "    print(f\"Win rate: {win_rate:.2f}, Draw rate: {draw_rate:.2f}, Loss rate: {loss_rate:.2f}\")\n",
    "\n",
    "    # Guardar el modelo si es mejor que el modelo anteriormente guardado.\n",
    "    if not os.path.exists(save_dir):\n",
    "        os.makedirs(save_dir)\n",
    "\n",
    "    save_path = os.path.join(save_dir, f\"model_win_rate_{win_rate:.2f}.pt\")\n",
    "    torch.save(model.state_dict(), save_path)\n",
    "    print(f\"Model saved to {save_path}\")"
   ]
  },
  {
   "cell_type": "code",
   "execution_count": 22,
   "metadata": {},
   "outputs": [],
   "source": [
    "def evaluate(model, num_games=10):\n",
    "    model.eval()  # Cambiar el modelo a modo de evaluación.\n",
    "\n",
    "    num_wins = 0\n",
    "    num_draws = 0\n",
    "    num_losses = 0\n",
    "    for _ in range(num_games):\n",
    "        env = ChessEnvironment()\n",
    "        \n",
    "        game = chess.pgn.Game()\n",
    "        # game_result = play_game(model, env, num_mcts_simulations=50, temperature=0)\n",
    "        game_result = play_game(model, env, game, num_mcts_simulations=50, temperature=0, return_result=True)\n",
    "\n",
    "        if game_result == \"1-0\":\n",
    "            num_wins += 1\n",
    "        elif game_result == \"0-1\":\n",
    "            num_losses += 1\n",
    "        elif game_result == \"1/2-1/2\":\n",
    "            num_draws += 1\n",
    "\n",
    "    win_rate = num_wins / num_games\n",
    "    draw_rate = num_draws / num_games\n",
    "    loss_rate = num_losses / num_games\n",
    "\n",
    "    return win_rate, draw_rate, loss_rate\n"
   ]
  },
  {
   "cell_type": "code",
   "execution_count": 23,
   "metadata": {},
   "outputs": [],
   "source": [
    "def train(model, optimizer, epochs, evaluation_interval):\n",
    "    losses = []\n",
    "    min_loss = float(\"inf\")\n",
    "    min_epoch = 0  # Época en la que se alcanzó el mínimo de pérdida.\n",
    "    \n",
    "    progress_bar = tqdm(range(epochs))  # Guarda el objeto tqdm en la variable progress_bar\n",
    "\n",
    "    for epoch in progress_bar:\n",
    "        # Generar partidas de autojugabilidad.\n",
    "        states, actions, rewards = play_games(model)\n",
    "        \n",
    "        # Calcular la pérdida y actualizar los pesos de la red neuronal.\n",
    "        loss = compute_loss(model, states, actions, rewards, device)\n",
    "        optimizer.zero_grad()\n",
    "        loss.backward()\n",
    "        optimizer.step()\n",
    "        \n",
    "        # Añadir la pérdida a la lista de pérdidas.\n",
    "        losses.append(loss.item())\n",
    "\n",
    "        # Evaluar y guardar el modelo en intervalos regulares.\n",
    "        if (epoch + 1) % evaluation_interval == 0:\n",
    "            win_rate, draw_rate, loss_rate = evaluate(model)\n",
    "            print(f\"Evaluation results: {evaluation_interval} games played\")\n",
    "            print(f\"Win rate: {win_rate:.2f}, Draw rate: {draw_rate:.2f}, Loss rate: {loss_rate:.2f}\")\n",
    "\n",
    "            if loss.item() < min_loss:\n",
    "                min_loss = loss.item()\n",
    "                torch.save(model.state_dict(), f\"saved_models\\model_win_rate_{win_rate:.2f}.pt\")\n",
    "                min_epoch = epoch\n",
    "\n",
    "        # Actualizar la barra de progreso con la información de la época actual y la pérdida.\n",
    "        progress_bar.set_description(f\"Epoch {epoch}, Loss {loss.item():.4f}\")\n",
    "    \n",
    "    # Graficar la pérdida a lo largo de las épocas.\n",
    "    plt.plot(losses)\n",
    "    plt.xlabel('Epoch')\n",
    "    plt.ylabel('Loss')\n",
    "    plt.title('Training Loss')\n",
    "    \n",
    "    # Indicar dónde se alcanzó el mínimo de pérdida.\n",
    "    plt.axvline(x=min_epoch, color='r', linestyle='--')\n",
    "    plt.text(min_epoch, min_loss, f\"Min Loss: {min_loss:.4f}\", color='r')\n",
    "    plt.show()"
   ]
  },
  {
   "cell_type": "code",
   "execution_count": 24,
   "metadata": {},
   "outputs": [
    {
     "name": "stderr",
     "output_type": "stream",
     "text": [
      "121332it [04:57, 408.01it/s]\n",
      "121332it [04:57, 408.01it/s]\n"
     ]
    }
   ],
   "source": [
    "# Cargamos la base de datos\n",
    "pgn_file = \"C:/Users/mated/Documents/GitHub/CHESS_DATA/lichess_db_standard_rated_2013-01.pgn\"\n",
    "\n",
    "# games = load_games_from_pgn(pgn_file, max_games=1000)\n",
    "games = load_games_from_pgn(pgn_file) # Extrae el número todal de juegos"
   ]
  },
  {
   "cell_type": "code",
   "execution_count": 25,
   "metadata": {},
   "outputs": [
    {
     "name": "stdout",
     "output_type": "stream",
     "text": [
      "Una partida cargada es: 1. e4 e6 2. d4 b6 3. a3 Bb7 4. Nc3 Nh6 5. Bxh6 gxh6 6. Be2 Qg5 7. Bg4 h5 8. Nf3 Qg6 9. Nh4 Qg5 10. Bxh5 Qxh4 11. Qf3 Kd8 12. Qxf7 Nc6 13. Qe8#\n"
     ]
    }
   ],
   "source": [
    "print('Una partida cargada es:',list( games[0])[0])"
   ]
  },
  {
   "cell_type": "code",
   "execution_count": 26,
   "metadata": {},
   "outputs": [],
   "source": [
    "# Crear el modelo\n",
    "model = ChessNetworkreduced(num_residual_blocks=3, num_channels=64).to(device)"
   ]
  },
  {
   "cell_type": "code",
   "execution_count": 27,
   "metadata": {},
   "outputs": [
    {
     "name": "stdout",
     "output_type": "stream",
     "text": [
      "----------------------------------------------------------------\n",
      "        Layer (type)               Output Shape         Param #\n",
      "================================================================\n",
      "            Conv2d-1             [-1, 64, 8, 8]           6,976\n",
      "       BatchNorm2d-2             [-1, 64, 8, 8]             128\n",
      "            Conv2d-3             [-1, 64, 8, 8]          36,928\n",
      "       BatchNorm2d-4             [-1, 64, 8, 8]             128\n",
      "            Conv2d-5             [-1, 64, 8, 8]          36,928\n",
      "       BatchNorm2d-6             [-1, 64, 8, 8]             128\n",
      "     ResidualBlock-7             [-1, 64, 8, 8]               0\n",
      "            Conv2d-8             [-1, 64, 8, 8]          36,928\n",
      "       BatchNorm2d-9             [-1, 64, 8, 8]             128\n",
      "           Conv2d-10             [-1, 64, 8, 8]          36,928\n",
      "      BatchNorm2d-11             [-1, 64, 8, 8]             128\n",
      "    ResidualBlock-12             [-1, 64, 8, 8]               0\n",
      "           Conv2d-13             [-1, 64, 8, 8]          36,928\n",
      "      BatchNorm2d-14             [-1, 64, 8, 8]             128\n",
      "           Conv2d-15             [-1, 64, 8, 8]          36,928\n",
      "      BatchNorm2d-16             [-1, 64, 8, 8]             128\n",
      "    ResidualBlock-17             [-1, 64, 8, 8]               0\n",
      "           Conv2d-18              [-1, 2, 8, 8]             130\n",
      "      BatchNorm2d-19              [-1, 2, 8, 8]               4\n",
      "           Linear-20                 [-1, 4096]         528,384\n",
      "           Conv2d-21              [-1, 1, 8, 8]              65\n",
      "      BatchNorm2d-22              [-1, 1, 8, 8]               2\n",
      "           Linear-23                  [-1, 256]          16,640\n",
      "           Linear-24                    [-1, 1]             257\n",
      "================================================================\n",
      "Total params: 774,922\n",
      "Trainable params: 774,922\n",
      "Non-trainable params: 0\n",
      "----------------------------------------------------------------\n",
      "Input size (MB): 0.00\n",
      "Forward/backward pass size (MB): 0.57\n",
      "Params size (MB): 2.96\n",
      "Estimated Total Size (MB): 3.53\n",
      "----------------------------------------------------------------\n"
     ]
    }
   ],
   "source": [
    "from torchsummary import summary\n",
    "\n",
    "# Asume un tablero de ajedrez de 8x8 y 12 canales, que representan las diferentes piezas\n",
    "input_shape = (12, 8, 8)\n",
    "summary(model, input_shape)"
   ]
  },
  {
   "cell_type": "code",
   "execution_count": 28,
   "metadata": {},
   "outputs": [],
   "source": [
    "optimizer = optim.Adam(model.parameters())"
   ]
  },
  {
   "cell_type": "code",
   "execution_count": 29,
   "metadata": {},
   "outputs": [],
   "source": [
    "# Entrenar el modelo\n",
    "epochs = 20\n",
    "evaluation_interval = 5"
   ]
  },
  {
   "cell_type": "code",
   "execution_count": 30,
   "metadata": {},
   "outputs": [],
   "source": [
    "# %timeit train(model, optimizer, epochs, evaluation_interval)"
   ]
  },
  {
   "cell_type": "code",
   "execution_count": 31,
   "metadata": {},
   "outputs": [
    {
     "name": "stderr",
     "output_type": "stream",
     "text": [
      "Training:   0%|          | 0/20 [00:00<?, ?it/s]"
     ]
    },
    {
     "name": "stdout",
     "output_type": "stream",
     "text": [
      "Cargando la muestra de 1000 juegos\n",
      "Procesando los juegos...\n",
      "La carga de datos tardó 1920.00 s\n",
      "Entrenamienot...\n"
     ]
    },
    {
     "name": "stderr",
     "output_type": "stream",
     "text": [
      "Epoch 1: 100%|██████████| 2121/2121 [00:27<00:00, 78.25it/s, Loss=1.86]\n",
      "Training:   5%|▌         | 1/20 [32:27<10:16:35, 1947.15s/it]"
     ]
    },
    {
     "name": "stdout",
     "output_type": "stream",
     "text": [
      "Epoch 1, Loss: 3.074661058898469\n",
      "Cargando la muestra de 1000 juegos\n",
      "Procesando los juegos...\n",
      "La carga de datos tardó 2182.42 s\n",
      "Entrenamienot...\n"
     ]
    },
    {
     "name": "stderr",
     "output_type": "stream",
     "text": [
      "Epoch 2: 100%|██████████| 2131/2131 [01:18<00:00, 27.28it/s, Loss=3.39]\n",
      "Training:  10%|█         | 2/20 [1:10:07<10:39:27, 2131.50s/it]"
     ]
    },
    {
     "name": "stdout",
     "output_type": "stream",
     "text": [
      "Epoch 2, Loss: 3.391339707631899\n",
      "Cargando la muestra de 1000 juegos\n",
      "Procesando los juegos...\n",
      "La carga de datos tardó 2189.77 s\n",
      "Entrenamienot...\n"
     ]
    },
    {
     "name": "stderr",
     "output_type": "stream",
     "text": [
      "Epoch 3: 100%|██████████| 2144/2144 [01:21<00:00, 26.29it/s, Loss=4.69]\n",
      "Training:  15%|█▌        | 3/20 [1:47:59<10:22:00, 2195.35s/it]"
     ]
    },
    {
     "name": "stdout",
     "output_type": "stream",
     "text": [
      "Epoch 3, Loss: 3.394744380085326\n",
      "Cargando la muestra de 1000 juegos\n",
      "Procesando los juegos...\n",
      "La carga de datos tardó 1797.02 s\n",
      "Entrenamienot...\n"
     ]
    },
    {
     "name": "stderr",
     "output_type": "stream",
     "text": [
      "Epoch 4: 100%|██████████| 2125/2125 [01:19<00:00, 26.87it/s, Loss=nan]\n",
      "Training:  20%|██        | 4/20 [2:19:15<9:11:49, 2069.32s/it] "
     ]
    },
    {
     "name": "stdout",
     "output_type": "stream",
     "text": [
      "Epoch 4, Loss: nan\n",
      "Cargando la muestra de 1000 juegos\n",
      "Procesando los juegos...\n",
      "La carga de datos tardó 1809.66 s\n",
      "Entrenamienot...\n"
     ]
    },
    {
     "name": "stderr",
     "output_type": "stream",
     "text": [
      "Epoch 5: 100%|██████████| 2163/2163 [01:20<00:00, 26.91it/s, Loss=nan]\n",
      "Training:  25%|██▌       | 5/20 [2:50:45<8:21:10, 2004.68s/it]"
     ]
    },
    {
     "name": "stdout",
     "output_type": "stream",
     "text": [
      "Epoch 5, Loss: nan\n",
      "Epoch 5, Win rate: 0.00, Draw rate: 0.00, Loss rate: 0.00\n",
      "Cargando la muestra de 1000 juegos\n",
      "Procesando los juegos...\n",
      "La carga de datos tardó 1652.85 s\n",
      "Entrenamienot...\n"
     ]
    },
    {
     "name": "stderr",
     "output_type": "stream",
     "text": [
      "Epoch 6: 100%|██████████| 2157/2157 [01:19<00:00, 27.19it/s, Loss=nan]\n",
      "Training:  30%|███       | 6/20 [3:19:37<7:26:08, 1912.04s/it]"
     ]
    },
    {
     "name": "stdout",
     "output_type": "stream",
     "text": [
      "Epoch 6, Loss: nan\n",
      "Cargando la muestra de 1000 juegos\n",
      "Procesando los juegos...\n",
      "La carga de datos tardó 1867.11 s\n",
      "Entrenamienot...\n"
     ]
    },
    {
     "name": "stderr",
     "output_type": "stream",
     "text": [
      "Epoch 7: 100%|██████████| 2086/2086 [01:16<00:00, 27.37it/s, Loss=nan]\n",
      "Training:  35%|███▌      | 7/20 [3:52:00<6:56:29, 1922.27s/it]"
     ]
    },
    {
     "name": "stdout",
     "output_type": "stream",
     "text": [
      "Epoch 7, Loss: nan\n",
      "Cargando la muestra de 1000 juegos\n",
      "Procesando los juegos...\n",
      "La carga de datos tardó 1675.71 s\n",
      "Entrenamienot...\n"
     ]
    },
    {
     "name": "stderr",
     "output_type": "stream",
     "text": [
      "Epoch 8: 100%|██████████| 2056/2056 [01:11<00:00, 28.92it/s, Loss=nan]\n",
      "Training:  40%|████      | 8/20 [4:21:07<6:13:16, 1866.42s/it]"
     ]
    },
    {
     "name": "stdout",
     "output_type": "stream",
     "text": [
      "Epoch 8, Loss: nan\n",
      "Cargando la muestra de 1000 juegos\n",
      "Procesando los juegos...\n",
      "La carga de datos tardó 2163.84 s\n",
      "Entrenamienot...\n"
     ]
    },
    {
     "name": "stderr",
     "output_type": "stream",
     "text": [
      "Epoch 9: 100%|██████████| 2086/2086 [01:17<00:00, 26.90it/s, Loss=nan]\n",
      "Training:  45%|████▌     | 9/20 [4:58:29<6:03:40, 1983.65s/it]"
     ]
    },
    {
     "name": "stdout",
     "output_type": "stream",
     "text": [
      "Epoch 9, Loss: nan\n",
      "Cargando la muestra de 1000 juegos\n",
      "Procesando los juegos...\n"
     ]
    }
   ],
   "source": [
    "num_epochs = 20\n",
    "evaluation_interval = 5\n",
    "num_mcts_simulations = 50\n",
    "learning_rate = 1e-3\n",
    "batch_size = 32\n",
    "num_games = 1000\n",
    "\n",
    "# Optmizador\n",
    "optimizer = torch.optim.Adam(model.parameters(), lr=learning_rate)\n",
    "\n",
    "min_epoch = 0\n",
    "\n",
    "loss_history = []\n",
    "\n",
    "# Envolver el rango de épocas con tqdm para mostrar una barra de progreso\n",
    "for epoch in tqdm(range(num_epochs), desc=\"Training\"):\n",
    "    st = time.time()\n",
    "    epoch_losses = []\n",
    "    \n",
    "    # Aqui debe ir la seleccion aleatoria de N juegos de la lista de juegos games\n",
    "    print('Cargando la muestra de {} juegos'.format(num_games))\n",
    "    sample_games = random.sample(games, num_games)\n",
    "    \n",
    "    print('Procesando los juegos...')\n",
    "    states, policy_targets, value_targets = play_games(model, sample_games, num_mcts_simulations=8, temperature=1.0)\n",
    "    dataset = TensorDataset(\n",
    "        torch.tensor(np.array(states), dtype=torch.float32),\n",
    "        torch.tensor(np.array(policy_targets), dtype=torch.float32),\n",
    "        torch.tensor(np.array(value_targets), dtype=torch.float32)\n",
    "    )\n",
    "    data_loader = DataLoader(dataset, batch_size=batch_size, shuffle=True)\n",
    "\n",
    "    print(f'La carga de datos tardó {time.time()-st:.2f} s')\n",
    "    \n",
    "    print('Entrenamienot...')\n",
    "    model.train()\n",
    "    pbar = tqdm(data_loader, desc=f\"Epoch {epoch + 1}\")\n",
    "    for state_batch, policy_target_batch, value_target_batch in pbar:\n",
    "        optimizer.zero_grad()\n",
    "        loss = compute_loss(model, state_batch, policy_target_batch, value_target_batch, device)\n",
    "        loss.backward()\n",
    "        optimizer.step()\n",
    "        pbar.set_postfix({\"Loss\": loss.item()})\n",
    "        epoch_losses.append(loss.item())\n",
    "        \n",
    "\n",
    "    epoch_loss = sum(epoch_losses) / len(epoch_losses)\n",
    "    loss_history.append(epoch_loss)\n",
    "    print(f\"Epoch {epoch + 1}, Loss: {epoch_loss}\")\n",
    "    \n",
    "    min_loss = min(loss_history)\n",
    "\n",
    "    if (epoch + 1) % evaluation_interval == 0:\n",
    "        win_rate, draw_rate, loss_rate = evaluate(model)\n",
    "        print(f\"Epoch {epoch + 1}, Win rate: {win_rate:.2f}, Draw rate: {draw_rate:.2f}, Loss rate: {loss_rate:.2f}\")\n",
    "\n",
    "        if win_rate + draw_rate > min_loss:\n",
    "            min_loss = win_rate + draw_rate\n",
    "            min_epoch = epoch + 1\n",
    "            torch.save(model.state_dict(), f\"saved_models/model_epoch_{epoch + 1}_win_rate_{win_rate:.2f}_draw_rate_{draw_rate:.2f}.pt\")\n",
    "            print(f\"Model saved at epoch {epoch + 1}\")"
   ]
  },
  {
   "cell_type": "code",
   "execution_count": null,
   "metadata": {},
   "outputs": [
    {
     "data": {
      "image/png": "[encoded data removed]",
      "text/plain": [
       "<Figure size 1000x500 with 1 Axes>"
      ]
     },
     "metadata": {},
     "output_type": "display_data"
    }
   ],
   "source": [
    "print(f\"Best model found at epoch {min_epoch}\")\n",
    "\n",
    "# Graficar la pérdida en función de las épocas\n",
    "plt.figure(figsize=(10, 5))\n",
    "plt.plot(range(1, num_epochs + 1), loss_history, label=\"Loss\")\n",
    "plt.scatter(min_epoch, loss_history[min_epoch - 1], color='red', label=f\"Min Loss at Epoch {min_epoch}\")\n",
    "plt.xlabel(\"Epochs\")\n",
    "plt.ylabel(\"Loss\")\n",
    "plt.legend()\n",
    "plt.title(\"Training Loss\")\n",
    "plt.show()"
   ]
  }
 ],
 "metadata": {
  "kernelspec": {
   "display_name": "chess",
   "language": "python",
   "name": "python3"
  },
  "language_info": {
   "codemirror_mode": {
    "name": "ipython",
    "version": 3
   },
   "file_extension": ".py",
   "mimetype": "text/x-python",
   "name": "python",
   "nbconvert_exporter": "python",
   "pygments_lexer": "ipython3",
   "version": "3.10.10"
  },
  "orig_nbformat": 4
 },
 "nbformat": 4,
 "nbformat_minor": 2
}
